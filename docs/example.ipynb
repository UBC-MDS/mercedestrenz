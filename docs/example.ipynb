{
    "cells": [
        {
            "cell_type": "markdown",
            "metadata": {},
            "source": [
                "# Example usage\n",
                "\n",
                "To use `mercedestrenz` in a project:"
            ]
        },
        {
            "cell_type": "code",
            "execution_count": 1,
            "metadata": {},
            "outputs": [
                {
                    "name": "stdout",
                    "output_type": "stream",
                    "text": [
                        "0.1.0\n"
                    ]
                }
            ],
            "source": [
                "import mercedestrenz\n",
                "\n",
                "print(mercedestrenz.__version__)"
            ]
        },
        {
            "attachments": {},
            "cell_type": "markdown",
            "metadata": {},
            "source": [
                "Below is a basic example of how to use each of the four functions included in this package.\n"
            ]
        },
        {
            "cell_type": "code",
            "execution_count": 2,
            "metadata": {},
            "outputs": [
                {
                    "data": {
                        "text/plain": [
                            "11142.06"
                        ]
                    },
                    "execution_count": 2,
                    "metadata": {},
                    "output_type": "execute_result"
                }
            ],
            "source": [
                "# Load all required package functions\n",
                "from mercedestrenz.data import load_sample_mercedes_listings, listing_search\n",
                "from mercedestrenz.train import train_mercedes_price_prediction_model\n",
                "from mercedestrenz.predict import predict_mercedes_price\n",
                "from mercedestrenz.visualizations import plot_mercedes_price\n",
                "\n",
                "# Load the sample mercedes listings data into a dataframe\n",
                "data = load_sample_mercedes_listings()\n",
                "\n",
                "# Return the top listings that are within a budget range specified by the user. Returns a pandas dataframe of results.\n",
                "listing_search(data, budget=[2000, 20000], model = \"any\", sort_feature = \"odometer_mi\", ascending = True)\n",
                "\n",
                "# Plot a price distribution of specific mercedes models, and see where an input price falls in the distribution.\n",
                "plot_mercedes_price(model='c-class', price=30000, market_df=data)\n",
                "\n",
                "# # Predict the price (in USD) of a Mercedes-Benz given the year, model, condition, paint color, and odometer reading.\n",
                "predict_mercedes_price(\"e-class\", 2015, 55_000, \"fair\", \"silver\")"
            ]
        },
        {
            "cell_type": "code",
            "execution_count": null,
            "metadata": {},
            "outputs": [],
            "source": []
        }
    ],
    "metadata": {
        "kernelspec": {
            "display_name": "mercedestrenz",
            "language": "python",
            "name": "python3"
        },
        "language_info": {
            "codemirror_mode": {
                "name": "ipython",
                "version": 3
            },
            "file_extension": ".py",
            "mimetype": "text/x-python",
            "name": "python",
            "nbconvert_exporter": "python",
            "pygments_lexer": "ipython3",
            "version": "3.9.15"
        },
        "vscode": {
            "interpreter": {
                "hash": "995d0b631642cad1295ad6fd8ce61cfbdafd6a9065660bbe20bf0d9c827557be"
            }
        }
    },
    "nbformat": 4,
    "nbformat_minor": 4
}
